{
 "cells": [
  {
   "cell_type": "code",
   "execution_count": 34,
   "id": "e973758a-f7b7-4263-b4fb-aea9e273ecc8",
   "metadata": {},
   "outputs": [],
   "source": [
    "from langchain_text_splitters import RecursiveCharacterTextSplitter\n",
    "from langchain_openai import OpenAIEmbeddings\n",
    "from langchain_openai import ChatOpenAI\n",
    "from langchain_community.vectorstores import Chroma\n",
    "from langchain_community.document_loaders import PyPDFLoader\n",
    "from langchain.chains.question_answering import load_qa_chain\n",
    "import os"
   ]
  },
  {
   "cell_type": "code",
   "execution_count": 35,
   "id": "f3861a90",
   "metadata": {},
   "outputs": [],
   "source": [
    "os.environ['OPENAI_API_KEY'] = ''"
   ]
  },
  {
   "cell_type": "code",
   "execution_count": 36,
   "id": "32d8444f",
   "metadata": {},
   "outputs": [],
   "source": [
    "# Load dos modelos\n",
    "embeddings_model = OpenAIEmbeddings()\n",
    "llm = ChatOpenAI(model='gpt-4o-mini', max_tokens=200)"
   ]
  },
  {
   "cell_type": "code",
   "execution_count": 37,
   "id": "999f723e",
   "metadata": {},
   "outputs": [],
   "source": [
    "# Carregar PDF\n",
    "pdf_link = \"/Users/rafaeltiburcio/dev/python/rag/pdf_example.pdf\"\n",
    "loader = PyPDFLoader(pdf_link, extract_images=False)\n",
    "pages = loader.load_and_split()"
   ]
  },
  {
   "cell_type": "code",
   "execution_count": 38,
   "id": "40b4e7a3",
   "metadata": {},
   "outputs": [],
   "source": [
    "# Separar pedaços de documentos\n",
    "text_spliter = RecursiveCharacterTextSplitter(\n",
    "    chunk_size=4000,\n",
    "    chunk_overlap=20,\n",
    "    length_function=len,\n",
    "    add_start_index=True\n",
    ")\n",
    "\n",
    "chunks = text_spliter.split_documents(pages)"
   ]
  },
  {
   "cell_type": "code",
   "execution_count": 39,
   "id": "95222a18",
   "metadata": {},
   "outputs": [],
   "source": [
    "#Salvar no vector DB\n",
    "\n",
    "db = Chroma.from_documents(chunks, embedding=embeddings_model, persist_directory='/Users/rafaeltiburcio/dev/python/rag/text_index')"
   ]
  },
  {
   "cell_type": "code",
   "execution_count": 40,
   "id": "2ed13959",
   "metadata": {},
   "outputs": [],
   "source": [
    "# Carregar DB\n",
    "vector_db = Chroma(persist_directory='/Users/rafaeltiburcio/dev/python/rag/text_index', embedding_function=embeddings_model)\n",
    "\n",
    "# Load Retriever\n",
    "retriever = vector_db.as_retriever(search_kwargs={\"k\": 3})\n",
    "\n",
    "# construção da cadeia de prompt para chamada do LLM\n",
    "chain = load_qa_chain(llm, chain_type=\"stuff\")"
   ]
  },
  {
   "cell_type": "code",
   "execution_count": 41,
   "id": "a387da55",
   "metadata": {},
   "outputs": [],
   "source": [
    "def ask(question):\n",
    "    context = retriever.get_relevant_documents(question)\n",
    "    answer = (chain({ \"input_documents\": context, \"question\": question }, return_only_outputs=True))['output_text']\n",
    "    return answer, context"
   ]
  },
  {
   "cell_type": "code",
   "execution_count": 42,
   "id": "43407520",
   "metadata": {},
   "outputs": [
    {
     "name": "stdout",
     "output_type": "stream",
     "text": [
      "Answer:  A recomendação para a lâmina C, conforme o relatório de inspeção, é a seguinte:\n",
      "\n",
      "- Para o dano classificado como \"Crack - Spanwise\" (Dano 7), a reparação deve ser feita em até 6 meses, com a reparação a ser realizada \"up-tower\".\n",
      "  \n",
      "- Para o dano classificado como \"Contamination\" (Dano 8), é recomendado realizar uma re-inspeção na próxima interval de serviço.\n",
      "\n",
      "Essas recomendações são categorizadas conforme a gravidade do dano.\n",
      "Context [Document(metadata={'page': 0, 'source': '/Users/rafaeltiburcio/dev/python/rag/pdf_example.pdf', 'start_index': 0}, page_content='Classification: Confidential  \\n \\n \\n  \\n \\n \\n \\n \\n \\n \\n \\n \\n \\n \\n \\n \\nRenascenca I  \\n46907'), Document(metadata={'page': 0, 'source': '/Users/rafaeltiburcio/dev/python/rag/pdf_example.pdf', 'start_index': 0}, page_content='Classification: Confidential  \\n \\n \\n  \\n \\n \\n \\n \\n \\n \\n \\n \\n \\n \\n \\n \\nRenascenca I  \\n46907'), Document(metadata={'page': 11, 'source': '/Users/rafaeltiburcio/dev/python/rag/pdf_example.pdf', 'start_index': 0}, page_content='Page 12 of 16 \\nprinted: 2021 -Jun-04 Blade Inspection Report  \\n46907 -2021 -03-29  \\n \\n \\n  \\n Wind.  It means the world to us.™  \\nReport Version : VES6 -7 \\n Classification: Confidential  \\n \\n 4.3.2 Details Blade C  \\nDamage : 7 \\n Image: 7  \\nBlade: C  \\nBlade Side: BS  \\nSection: TE  \\nDistance from hub-c.: 3m \\nSize: 43 cm \\nGroup: Laminate Damage  \\nType: Crack - Spanwise  \\nClass: Category 3  \\nDescription: Crack – Spanwise \\\\ Cat 3 \\\\ \\nRepair Up -tower \\\\ within 6 months  \\n \\n expires on 2021 -08-193DX Link Damage 7 -Renascenca I -46907 -2021 -03-29 \\nDamage : 8 \\n Image: 8  \\nBlade: C  \\nBlade Side: BS  \\nSection: TE  \\nDistance from hub-c.: 33.4 m \\nSize: 14 cm \\nGroup: Laminate Damage  \\nType: Contamination  \\nClass: Category 2  \\nDescription: Cosmetic Dirtiness \\\\ Cat 2 \\\\ \\nPlease Re -Inspect \\\\ At next Service \\nInterval  \\n expires on 2021 -08-193DX Link Damage 8 -Renascenca I -46907 -2021 -03-29')]\n"
     ]
    }
   ],
   "source": [
    "user_question = input(\"User: \")\n",
    "answer, context = ask(user_question)\n",
    "print(\"Answer: \", answer)\n",
    "print(\"Context\", context)"
   ]
  }
 ],
 "metadata": {
  "kernelspec": {
   "display_name": "Python 3 (ipykernel)",
   "language": "python",
   "name": "python3"
  },
  "language_info": {
   "codemirror_mode": {
    "name": "ipython",
    "version": 3
   },
   "file_extension": ".py",
   "mimetype": "text/x-python",
   "name": "python",
   "nbconvert_exporter": "python",
   "pygments_lexer": "ipython3",
   "version": "3.9.6"
  }
 },
 "nbformat": 4,
 "nbformat_minor": 5
}
