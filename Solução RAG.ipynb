{
 "cells": [
  {
   "cell_type": "code",
   "execution_count": 11,
   "id": "e973758a-f7b7-4263-b4fb-aea9e273ecc8",
   "metadata": {},
   "outputs": [],
   "source": [
    "from langchain_text_splitters import RecursiveCharacterTextSplitter\n",
    "from langchain_openai import OpenAIEmbeddings\n",
    "from langchain_openai import ChatOpenAI\n",
    "from langchain_community.vectorstores import Chroma\n",
    "from langchain_community.document_loaders import PyPDFLoader\n",
    "from langchain.chains.question_answering import load_qa_chain\n",
    "import os"
   ]
  },
  {
   "cell_type": "code",
   "execution_count": 12,
   "id": "f3861a90",
   "metadata": {},
   "outputs": [],
   "source": [
    "os.environ['OPENAI_API_KEY'] = ''"
   ]
  },
  {
   "cell_type": "code",
   "execution_count": 13,
   "id": "32d8444f",
   "metadata": {},
   "outputs": [],
   "source": [
    "# Load dos modelos\n",
    "embeddings_model = OpenAIEmbeddings()\n",
    "llm = ChatOpenAI(model='gpt-4o-mini', max_tokens=200)"
   ]
  },
  {
   "cell_type": "code",
   "execution_count": 14,
   "id": "999f723e",
   "metadata": {},
   "outputs": [],
   "source": [
    "# Carregar PDF\n",
    "pdf_link = \"\"\n",
    "loader = PyPDFLoader(pdf_link, extract_images=False)\n",
    "pages = loader.load_and_split()"
   ]
  },
  {
   "cell_type": "code",
   "execution_count": 15,
   "id": "40b4e7a3",
   "metadata": {},
   "outputs": [],
   "source": [
    "# Separar pedaços de documentos\n",
    "text_spliter = RecursiveCharacterTextSplitter(\n",
    "    chunk_size=4000,\n",
    "    chunk_overlap=20,\n",
    "    length_function=len,\n",
    "    add_start_index=True\n",
    ")\n",
    "\n",
    "chunks = text_spliter.split_documents(pages)"
   ]
  },
  {
   "cell_type": "code",
   "execution_count": 16,
   "id": "95222a18",
   "metadata": {},
   "outputs": [],
   "source": [
    "#Salvar no vector DB\n",
    "\n",
    "db = Chroma.from_documents(chunks, embedding=embeddings_model, persist_directory='')"
   ]
  },
  {
   "cell_type": "code",
   "execution_count": 17,
   "id": "2ed13959",
   "metadata": {},
   "outputs": [],
   "source": [
    "# Carregar DB\n",
    "vector_db = Chroma(persist_directory='', embedding_function=embeddings_model)\n",
    "\n",
    "# Load Retriever\n",
    "retriever = vector_db.as_retriever(search_kwargs={\"k\": 3})\n",
    "\n",
    "# construção da cadeia de prompt para chamada do LLM\n",
    "chain = load_qa_chain(llm, chain_type=\"stuff\")"
   ]
  },
  {
   "cell_type": "code",
   "execution_count": 18,
   "id": "a387da55",
   "metadata": {},
   "outputs": [],
   "source": [
    "def ask(question):\n",
    "    context = retriever.get_relevant_documents(question)\n",
    "    answer = (chain({ \"input_documents\": context, \"question\": question }, return_only_outputs=True))['output_text']\n",
    "    return answer, context"
   ]
  },
  {
   "cell_type": "code",
   "execution_count": 19,
   "id": "43407520",
   "metadata": {},
   "outputs": [
    {
     "name": "stdout",
     "output_type": "stream",
     "text": [
      "Answer:  Olá! Como posso ajudar você hoje?\n"
     ]
    }
   ],
   "source": [
    "user_question = input(\"User: \")\n",
    "answer, context = ask(user_question)\n",
    "print(\"Answer: \", answer)\n",
    "# print(\"Context\", context)"
   ]
  }
 ],
 "metadata": {
  "kernelspec": {
   "display_name": "Python 3 (ipykernel)",
   "language": "python",
   "name": "python3"
  },
  "language_info": {
   "codemirror_mode": {
    "name": "ipython",
    "version": 3
   },
   "file_extension": ".py",
   "mimetype": "text/x-python",
   "name": "python",
   "nbconvert_exporter": "python",
   "pygments_lexer": "ipython3",
   "version": "3.9.6"
  }
 },
 "nbformat": 4,
 "nbformat_minor": 5
}
